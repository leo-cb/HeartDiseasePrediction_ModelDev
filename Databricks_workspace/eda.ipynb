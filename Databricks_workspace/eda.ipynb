{
 "cells": [
  {
   "cell_type": "code",
   "execution_count": 0,
   "metadata": {
    "application/vnd.databricks.v1+cell": {
     "cellMetadata": {
      "byteLimit": 2048000,
      "rowLimit": 10000
     },
     "inputWidgets": {},
     "nuid": "3c179d88-1d71-43cd-a739-0f10d419893d",
     "showTitle": false,
     "title": ""
    }
   },
   "outputs": [],
   "source": [
    "import pyspark\n",
    "from pyspark.sql import SparkSession\n",
    "import warnings\n",
    "import matplotlib.pyplot as plt\n",
    "warnings.filterwarnings('ignore')"
   ]
  },
  {
   "cell_type": "code",
   "execution_count": 0,
   "metadata": {
    "application/vnd.databricks.v1+cell": {
     "cellMetadata": {
      "byteLimit": 2048000,
      "rowLimit": 10000
     },
     "inputWidgets": {},
     "nuid": "53d0bb05-ffbc-4783-aee7-1b6111265b7c",
     "showTitle": false,
     "title": ""
    }
   },
   "outputs": [],
   "source": [
    "# create spark session    \n",
    "spark = SparkSession.builder.appName(\"eda\").getOrCreate()"
   ]
  },
  {
   "cell_type": "code",
   "execution_count": 0,
   "metadata": {
    "application/vnd.databricks.v1+cell": {
     "cellMetadata": {
      "byteLimit": 2048000,
      "rowLimit": 10000
     },
     "inputWidgets": {},
     "nuid": "da2e6fe3-1903-4801-9e1f-c72d6e469933",
     "showTitle": false,
     "title": ""
    }
   },
   "outputs": [],
   "source": [
    "# read the csv file (taken from https://www.kaggle.com/datasets/johnsmith88/heart-disease-dataset)\n",
    "df = spark.read.format(\"delta\").load(\"dbfs:/user/hive/warehouse/heart\")"
   ]
  },
  {
   "cell_type": "markdown",
   "metadata": {
    "application/vnd.databricks.v1+cell": {
     "cellMetadata": {
      "byteLimit": 2048000,
      "rowLimit": 10000
     },
     "inputWidgets": {},
     "nuid": "9fba6a76-1468-4bee-b9e6-84427e9dddfe",
     "showTitle": false,
     "title": ""
    }
   },
   "source": [
    "## EDA"
   ]
  },
  {
   "cell_type": "code",
   "execution_count": 0,
   "metadata": {
    "application/vnd.databricks.v1+cell": {
     "cellMetadata": {
      "byteLimit": 2048000,
      "rowLimit": 10000
     },
     "inputWidgets": {},
     "nuid": "90e2f1a5-2279-4926-897d-edaf506ba9ea",
     "showTitle": false,
     "title": ""
    }
   },
   "outputs": [],
   "source": [
    "#%pip install handyspark"
   ]
  },
  {
   "cell_type": "code",
   "execution_count": 0,
   "metadata": {
    "application/vnd.databricks.v1+cell": {
     "cellMetadata": {
      "byteLimit": 2048000,
      "rowLimit": 10000
     },
     "inputWidgets": {},
     "nuid": "e7dd546a-8aaa-4f09-808a-b0e8b0e8825c",
     "showTitle": false,
     "title": ""
    }
   },
   "outputs": [],
   "source": [
    "from pyspark.sql.functions import col, count, when, isnan\n",
    "from pyspark.sql.types import IntegerType, FloatType, BooleanType, DateType, StringType\n",
    "import numpy as np\n",
    "import handyspark"
   ]
  },
  {
   "cell_type": "code",
   "execution_count": 0,
   "metadata": {
    "application/vnd.databricks.v1+cell": {
     "cellMetadata": {
      "byteLimit": 2048000,
      "rowLimit": 10000
     },
     "inputWidgets": {},
     "nuid": "6b568ee1-4d11-4e92-ad41-45dc4ffd777e",
     "showTitle": false,
     "title": ""
    }
   },
   "outputs": [
    {
     "output_type": "stream",
     "name": "stdout",
     "output_type": "stream",
     "text": [
      "Out[7]: 1025"
     ]
    }
   ],
   "source": [
    "df.count()"
   ]
  },
  {
   "cell_type": "code",
   "execution_count": 0,
   "metadata": {
    "application/vnd.databricks.v1+cell": {
     "cellMetadata": {
      "byteLimit": 2048000,
      "rowLimit": 10000
     },
     "inputWidgets": {},
     "nuid": "faa278ac-89c9-47bb-88d3-74a57a0d7864",
     "showTitle": false,
     "title": ""
    }
   },
   "outputs": [
    {
     "output_type": "stream",
     "name": "stdout",
     "output_type": "stream",
     "text": [
      "+---+---+---+--------+----+---+-------+-------+-----+-------+-----+---+----+------+\n|age|sex| cp|trestbps|chol|fbs|restecg|thalach|exang|oldpeak|slope| ca|thal|target|\n+---+---+---+--------+----+---+-------+-------+-----+-------+-----+---+----+------+\n| 52|  1|  0|     125| 212|  0|      1|    168|    0|    1.0|    2|  2|   3|     0|\n| 53|  1|  0|     140| 203|  1|      0|    155|    1|    3.1|    0|  0|   3|     0|\n| 70|  1|  0|     145| 174|  0|      1|    125|    1|    2.6|    0|  0|   3|     0|\n| 61|  1|  0|     148| 203|  0|      1|    161|    0|    0.0|    2|  1|   3|     0|\n| 62|  0|  0|     138| 294|  1|      1|    106|    0|    1.9|    1|  3|   2|     0|\n| 58|  0|  0|     100| 248|  0|      0|    122|    0|    1.0|    1|  0|   2|     1|\n| 58|  1|  0|     114| 318|  0|      2|    140|    0|    4.4|    0|  3|   1|     0|\n| 55|  1|  0|     160| 289|  0|      0|    145|    1|    0.8|    1|  1|   3|     0|\n| 46|  1|  0|     120| 249|  0|      0|    144|    0|    0.8|    2|  0|   3|     0|\n| 54|  1|  0|     122| 286|  0|      0|    116|    1|    3.2|    1|  2|   2|     0|\n| 71|  0|  0|     112| 149|  0|      1|    125|    0|    1.6|    1|  0|   2|     1|\n| 43|  0|  0|     132| 341|  1|      0|    136|    1|    3.0|    1|  0|   3|     0|\n| 34|  0|  1|     118| 210|  0|      1|    192|    0|    0.7|    2|  0|   2|     1|\n| 51|  1|  0|     140| 298|  0|      1|    122|    1|    4.2|    1|  3|   3|     0|\n| 52|  1|  0|     128| 204|  1|      1|    156|    1|    1.0|    1|  0|   0|     0|\n| 34|  0|  1|     118| 210|  0|      1|    192|    0|    0.7|    2|  0|   2|     1|\n| 51|  0|  2|     140| 308|  0|      0|    142|    0|    1.5|    2|  1|   2|     1|\n| 54|  1|  0|     124| 266|  0|      0|    109|    1|    2.2|    1|  1|   3|     0|\n| 50|  0|  1|     120| 244|  0|      1|    162|    0|    1.1|    2|  0|   2|     1|\n| 58|  1|  2|     140| 211|  1|      0|    165|    0|    0.0|    2|  0|   2|     1|\n+---+---+---+--------+----+---+-------+-------+-----+-------+-----+---+----+------+\nonly showing top 20 rows\n\n"
     ]
    }
   ],
   "source": [
    "df.show()"
   ]
  },
  {
   "cell_type": "code",
   "execution_count": 0,
   "metadata": {
    "application/vnd.databricks.v1+cell": {
     "cellMetadata": {
      "byteLimit": 2048000,
      "rowLimit": 10000
     },
     "inputWidgets": {},
     "nuid": "b8ab95f6-83c0-4a6c-ab29-167c66eef66a",
     "showTitle": false,
     "title": ""
    }
   },
   "outputs": [
    {
     "output_type": "stream",
     "name": "stdout",
     "output_type": "stream",
     "text": [
      "+-------+-----------------+------------------+------------------+------------------+-----------------+-------------------+------------------+------------------+-------------------+------------------+------------------+------------------+------------------+------------------+\n|summary|              age|               sex|                cp|          trestbps|             chol|                fbs|           restecg|           thalach|              exang|           oldpeak|             slope|                ca|              thal|            target|\n+-------+-----------------+------------------+------------------+------------------+-----------------+-------------------+------------------+------------------+-------------------+------------------+------------------+------------------+------------------+------------------+\n|  count|             1025|              1025|              1025|              1025|             1025|               1025|              1025|              1025|               1025|              1025|              1025|              1025|              1025|              1025|\n|   mean|54.43414634146342|0.6956097560975609|0.9424390243902439|131.61170731707318|            246.0|0.14926829268292682|0.5297560975609756|149.11414634146342|0.33658536585365856|1.0715121951219524|1.3853658536585365|0.7541463414634146|  2.32390243902439|0.5131707317073171|\n| stddev|9.072290233244278|0.4603733241196495| 1.029640743645865|17.516718005376408|51.59251020618203|0.35652668972715756|0.5278775668748918| 23.00572374597721| 0.4727723760037115|1.1750532551501767|0.6177552671745918|1.0307976650242825|0.6206602380510303|0.5000704980788011|\n|    min|               29|                 0|                 0|                94|              126|                  0|                 0|                71|                  0|               0.0|                 0|                 0|                 0|                 0|\n|    max|               77|                 1|                 3|               200|              564|                  1|                 2|               202|                  1|               6.2|                 2|                 4|                 3|                 1|\n+-------+-----------------+------------------+------------------+------------------+-----------------+-------------------+------------------+------------------+-------------------+------------------+------------------+------------------+------------------+------------------+\n\n"
     ]
    }
   ],
   "source": [
    "df.describe().show()"
   ]
  },
  {
   "cell_type": "code",
   "execution_count": 0,
   "metadata": {
    "application/vnd.databricks.v1+cell": {
     "cellMetadata": {},
     "inputWidgets": {},
     "nuid": "51e7190b-1f7b-460a-9d40-1402ae6bac1f",
     "showTitle": false,
     "title": ""
    }
   },
   "outputs": [
    {
     "output_type": "stream",
     "name": "stdout",
     "output_type": "stream",
     "text": [
      "root\n |-- age: string (nullable = true)\n |-- sex: string (nullable = true)\n |-- cp: string (nullable = true)\n |-- trestbps: string (nullable = true)\n |-- chol: string (nullable = true)\n |-- fbs: string (nullable = true)\n |-- restecg: string (nullable = true)\n |-- thalach: string (nullable = true)\n |-- exang: string (nullable = true)\n |-- oldpeak: string (nullable = true)\n |-- slope: string (nullable = true)\n |-- ca: string (nullable = true)\n |-- thal: string (nullable = true)\n |-- target: string (nullable = true)\n\n"
     ]
    }
   ],
   "source": [
    "df.printSchema()"
   ]
  },
  {
   "cell_type": "markdown",
   "metadata": {
    "application/vnd.databricks.v1+cell": {
     "cellMetadata": {},
     "inputWidgets": {},
     "nuid": "a1e4d873-b1ac-4d8b-8eaf-a23488085034",
     "showTitle": false,
     "title": ""
    }
   },
   "source": [
    "### Null values"
   ]
  },
  {
   "cell_type": "code",
   "execution_count": 0,
   "metadata": {
    "application/vnd.databricks.v1+cell": {
     "cellMetadata": {
      "byteLimit": 2048000,
      "rowLimit": 10000
     },
     "inputWidgets": {},
     "nuid": "0c3f5301-8e0b-4c87-bb54-0583da139704",
     "showTitle": false,
     "title": ""
    }
   },
   "outputs": [
    {
     "output_type": "stream",
     "name": "stdout",
     "output_type": "stream",
     "text": [
      "+---+---+---+--------+----+---+-------+-------+-----+-------+-----+---+----+------+\n|age|sex| cp|trestbps|chol|fbs|restecg|thalach|exang|oldpeak|slope| ca|thal|target|\n+---+---+---+--------+----+---+-------+-------+-----+-------+-----+---+----+------+\n|  0|  0|  0|       0|   0|  0|      0|      0|    0|      0|    0|  0|   0|     0|\n+---+---+---+--------+----+---+-------+-------+-----+-------+-----+---+----+------+\n\n"
     ]
    }
   ],
   "source": [
    "null_df = df.select([count(when(col(c).contains('None') | col(c).contains('NULL') | (col(c) == '') | col(c).isNull() | isnan(c), c)).alias(c) for c in df.columns])\n",
    "null_df.show()"
   ]
  },
  {
   "cell_type": "markdown",
   "metadata": {
    "application/vnd.databricks.v1+cell": {
     "cellMetadata": {},
     "inputWidgets": {},
     "nuid": "b889d9a2-de25-478f-ae5d-17b80845832c",
     "showTitle": false,
     "title": ""
    }
   },
   "source": [
    "### Fix variable types"
   ]
  },
  {
   "cell_type": "code",
   "execution_count": 0,
   "metadata": {
    "application/vnd.databricks.v1+cell": {
     "cellMetadata": {
      "byteLimit": 2048000,
      "rowLimit": 10000
     },
     "inputWidgets": {},
     "nuid": "ae009f31-8a68-435c-ac06-ddd4eb96d41c",
     "showTitle": false,
     "title": ""
    }
   },
   "outputs": [],
   "source": [
    "df = df.withColumn(\"age\", df[\"age\"].cast(IntegerType()))\n",
    "df = df.withColumn(\"sex\", df[\"sex\"].cast(IntegerType()))\n",
    "df = df.withColumn(\"cp\", df[\"cp\"].cast(IntegerType()))\n",
    "df = df.withColumn(\"trestbps\", df[\"trestbps\"].cast(IntegerType()))\n",
    "df = df.withColumn(\"chol\", df[\"chol\"].cast(IntegerType()))\n",
    "df = df.withColumn(\"restecg\", df[\"restecg\"].cast(IntegerType()))\n",
    "df = df.withColumn(\"thalach\", df[\"thalach\"].cast(IntegerType()))\n",
    "df = df.withColumn(\"exang\", df[\"exang\"].cast(IntegerType()))\n",
    "df = df.withColumn(\"oldpeak\", df[\"oldpeak\"].cast(FloatType()))\n",
    "df = df.withColumn(\"slope\", df[\"slope\"].cast(IntegerType()))\n",
    "df = df.withColumn(\"ca\", df[\"ca\"].cast(IntegerType()))\n",
    "df = df.withColumn(\"thal\", df[\"thal\"].cast(IntegerType()))\n",
    "df = df.withColumn(\"target\", df[\"target\"].cast(IntegerType()))"
   ]
  },
  {
   "cell_type": "code",
   "execution_count": 0,
   "metadata": {
    "application/vnd.databricks.v1+cell": {
     "cellMetadata": {
      "byteLimit": 2048000,
      "rowLimit": 10000
     },
     "inputWidgets": {},
     "nuid": "c657b3d6-b120-43b1-b455-893e5f50bf97",
     "showTitle": false,
     "title": ""
    }
   },
   "outputs": [
    {
     "output_type": "stream",
     "name": "stdout",
     "output_type": "stream",
     "text": [
      "root\n |-- age: integer (nullable = true)\n |-- sex: integer (nullable = true)\n |-- cp: integer (nullable = true)\n |-- trestbps: integer (nullable = true)\n |-- chol: integer (nullable = true)\n |-- fbs: long (nullable = true)\n |-- restecg: integer (nullable = true)\n |-- thalach: integer (nullable = true)\n |-- exang: integer (nullable = true)\n |-- oldpeak: float (nullable = true)\n |-- slope: integer (nullable = true)\n |-- ca: integer (nullable = true)\n |-- thal: integer (nullable = true)\n |-- target: integer (nullable = true)\n\n"
     ]
    }
   ],
   "source": [
    "df.printSchema()"
   ]
  },
  {
   "cell_type": "markdown",
   "metadata": {
    "application/vnd.databricks.v1+cell": {
     "cellMetadata": {},
     "inputWidgets": {},
     "nuid": "aeaf5688-ea92-4b49-a2f4-423748ed8d73",
     "showTitle": false,
     "title": ""
    }
   },
   "source": [
    "### Histograms"
   ]
  },
  {
   "cell_type": "code",
   "execution_count": 0,
   "metadata": {
    "application/vnd.databricks.v1+cell": {
     "cellMetadata": {
      "byteLimit": 2048000,
      "rowLimit": 10000
     },
     "inputWidgets": {},
     "nuid": "770ac240-6657-4560-9dab-9bb8168d7307",
     "showTitle": false,
     "title": ""
    }
   },
   "outputs": [
    {
     "output_type": "display_data",
     "data": {
      "image/png": "[encoded data removed]"
     },
     "metadata": {
      "application/vnd.databricks.v1+output": {
       "addedWidgets": {},
       "arguments": {},
       "data": "data:image/png;base64,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\n",
       "datasetInfos": [],
       "metadata": {},
       "removedWidgets": [],
       "type": "image"
      }
     },
     "output_type": "display_data"
    },
    {
     "output_type": "display_data",
     "data": {
      "image/png": "[encoded data removed]"
     },
     "metadata": {
      "application/vnd.databricks.v1+output": {
       "addedWidgets": {},
       "arguments": {},
       "data": "data:image/png;base64,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\n",
       "datasetInfos": [],
       "metadata": {},
       "removedWidgets": [],
       "type": "image"
      }
     },
     "output_type": "display_data"
    },
    {
     "output_type": "display_data",
     "data": {
      "image/png": "[encoded data removed]"
     },
     "metadata": {
      "application/vnd.databricks.v1+output": {
       "addedWidgets": {},
       "arguments": {},
       "data": "data:image/png;base64,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\n",
       "datasetInfos": [],
       "metadata": {},
       "removedWidgets": [],
       "type": "image"
      }
     },
     "output_type": "display_data"
    },
    {
     "output_type": "display_data",
     "data": {
      "image/png": "[encoded data removed]"
     },
     "metadata": {
      "application/vnd.databricks.v1+output": {
       "addedWidgets": {},
       "arguments": {},
       "data": "data:image/png;base64,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\n",
       "datasetInfos": [],
       "metadata": {},
       "removedWidgets": [],
       "type": "image"
      }
     },
     "output_type": "display_data"
    },
    {
     "output_type": "display_data",
     "data": {
      "image/png": "[encoded data removed]"
     },
     "metadata": {
      "application/vnd.databricks.v1+output": {
       "addedWidgets": {},
       "arguments": {},
       "data": "data:image/png;base64,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\n",
       "datasetInfos": [],
       "metadata": {},
       "removedWidgets": [],
       "type": "image"
      }
     },
     "output_type": "display_data"
    },
    {
     "output_type": "display_data",
     "data": {
      "image/png": "[encoded data removed]"
     },
     "metadata": {
      "application/vnd.databricks.v1+output": {
       "addedWidgets": {},
       "arguments": {},
       "data": "data:image/png;base64,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\n",
       "datasetInfos": [],
       "metadata": {},
       "removedWidgets": [],
       "type": "image"
      }
     },
     "output_type": "display_data"
    },
    {
     "output_type": "display_data",
     "data": {
      "image/png": "[encoded data removed]"
     },
     "metadata": {
      "application/vnd.databricks.v1+output": {
       "addedWidgets": {},
       "arguments": {},
       "data": "data:image/png;base64,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\n",
       "datasetInfos": [],
       "metadata": {},
       "removedWidgets": [],
       "type": "image"
      }
     },
     "output_type": "display_data"
    },
    {
     "output_type": "display_data",
     "data": {
      "image/png": "[encoded data removed]"
     },
     "metadata": {
      "application/vnd.databricks.v1+output": {
       "addedWidgets": {},
       "arguments": {},
       "data": "data:image/png;base64,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\n",
       "datasetInfos": [],
       "metadata": {},
       "removedWidgets": [],
       "type": "image"
      }
     },
     "output_type": "display_data"
    },
    {
     "output_type": "display_data",
     "data": {
      "image/png": "[encoded data removed]"
     },
     "metadata": {
      "application/vnd.databricks.v1+output": {
       "addedWidgets": {},
       "arguments": {},
       "data": "data:image/png;base64,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\n",
       "datasetInfos": [],
       "metadata": {},
       "removedWidgets": [],
       "type": "image"
      }
     },
     "output_type": "display_data"
    },
    {
     "output_type": "display_data",
     "data": {
      "image/png": "[encoded data removed]"
     },
     "metadata": {
      "application/vnd.databricks.v1+output": {
       "addedWidgets": {},
       "arguments": {},
       "data": "data:image/png;base64,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\n",
       "datasetInfos": [],
       "metadata": {},
       "removedWidgets": [],
       "type": "image"
      }
     },
     "output_type": "display_data"
    },
    {
     "output_type": "display_data",
     "data": {
      "image/png": "[encoded data removed]"
     },
     "metadata": {
      "application/vnd.databricks.v1+output": {
       "addedWidgets": {},
       "arguments": {},
       "data": "data:image/png;base64,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\n",
       "datasetInfos": [],
       "metadata": {},
       "removedWidgets": [],
       "type": "image"
      }
     },
     "output_type": "display_data"
    },
    {
     "output_type": "display_data",
     "data": {
      "image/png": "[encoded data removed]"
     },
     "metadata": {
      "application/vnd.databricks.v1+output": {
       "addedWidgets": {},
       "arguments": {},
       "data": "data:image/png;base64,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\n",
       "datasetInfos": [],
       "metadata": {},
       "removedWidgets": [],
       "type": "image"
      }
     },
     "output_type": "display_data"
    },
    {
     "output_type": "display_data",
     "data": {
      "image/png": "[encoded data removed]"
     },
     "metadata": {
      "application/vnd.databricks.v1+output": {
       "addedWidgets": {},
       "arguments": {},
       "data": "data:image/png;base64,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\n",
       "datasetInfos": [],
       "metadata": {},
       "removedWidgets": [],
       "type": "image"
      }
     },
     "output_type": "display_data"
    }
   ],
   "source": [
    "# convert to handy frame\n",
    "hdf = df.toHandy()\n",
    "\n",
    "for c in df.columns:\n",
    "    if c == 'oldpeak':\n",
    "        continue\n",
    "    # Using the HandySpark hist() method to plot the histogram\n",
    "    fig, axes = plt.subplots()\n",
    "    hdf.cols[c].hist(bins=10, ax=axes)\n",
    "    plt.title(c)\n",
    "    plt.show()"
   ]
  },
  {
   "cell_type": "markdown",
   "metadata": {
    "application/vnd.databricks.v1+cell": {
     "cellMetadata": {},
     "inputWidgets": {},
     "nuid": "be43aaa8-0ed6-4db6-9316-bd61fab326a1",
     "showTitle": false,
     "title": ""
    }
   },
   "source": [
    "### Plot scatter of each feature vs target"
   ]
  },
  {
   "cell_type": "code",
   "execution_count": 0,
   "metadata": {
    "application/vnd.databricks.v1+cell": {
     "cellMetadata": {
      "byteLimit": 2048000,
      "rowLimit": 10000
     },
     "inputWidgets": {},
     "nuid": "f74c16a1-578e-44f2-bc54-5fced2f1900f",
     "showTitle": false,
     "title": ""
    }
   },
   "outputs": [
    {
     "output_type": "stream",
     "name": "stdout",
     "output_type": "stream",
     "text": [
      "+---+---+---+--------+----+---+-------+-------+-----+-------+-----+---+----+------+-------+\n|age|sex| cp|trestbps|chol|fbs|restecg|thalach|exang|oldpeak|slope| ca|thal|target|fbs_cat|\n+---+---+---+--------+----+---+-------+-------+-----+-------+-----+---+----+------+-------+\n| 52|  1|  0|     125| 212|  0|      1|    168|    0|    1.0|    2|  2|   3|     0|    0.0|\n| 53|  1|  0|     140| 203|  1|      0|    155|    1|    3.1|    0|  0|   3|     0|    1.0|\n| 70|  1|  0|     145| 174|  0|      1|    125|    1|    2.6|    0|  0|   3|     0|    0.0|\n| 61|  1|  0|     148| 203|  0|      1|    161|    0|    0.0|    2|  1|   3|     0|    0.0|\n| 62|  0|  0|     138| 294|  1|      1|    106|    0|    1.9|    1|  3|   2|     0|    1.0|\n| 58|  0|  0|     100| 248|  0|      0|    122|    0|    1.0|    1|  0|   2|     1|    0.0|\n| 58|  1|  0|     114| 318|  0|      2|    140|    0|    4.4|    0|  3|   1|     0|    0.0|\n| 55|  1|  0|     160| 289|  0|      0|    145|    1|    0.8|    1|  1|   3|     0|    0.0|\n| 46|  1|  0|     120| 249|  0|      0|    144|    0|    0.8|    2|  0|   3|     0|    0.0|\n| 54|  1|  0|     122| 286|  0|      0|    116|    1|    3.2|    1|  2|   2|     0|    0.0|\n| 71|  0|  0|     112| 149|  0|      1|    125|    0|    1.6|    1|  0|   2|     1|    0.0|\n| 43|  0|  0|     132| 341|  1|      0|    136|    1|    3.0|    1|  0|   3|     0|    1.0|\n| 34|  0|  1|     118| 210|  0|      1|    192|    0|    0.7|    2|  0|   2|     1|    0.0|\n| 51|  1|  0|     140| 298|  0|      1|    122|    1|    4.2|    1|  3|   3|     0|    0.0|\n| 52|  1|  0|     128| 204|  1|      1|    156|    1|    1.0|    1|  0|   0|     0|    1.0|\n| 34|  0|  1|     118| 210|  0|      1|    192|    0|    0.7|    2|  0|   2|     1|    0.0|\n| 51|  0|  2|     140| 308|  0|      0|    142|    0|    1.5|    2|  1|   2|     1|    0.0|\n| 54|  1|  0|     124| 266|  0|      0|    109|    1|    2.2|    1|  1|   3|     0|    0.0|\n| 50|  0|  1|     120| 244|  0|      1|    162|    0|    1.1|    2|  0|   2|     1|    0.0|\n| 58|  1|  2|     140| 211|  1|      0|    165|    0|    0.0|    2|  0|   2|     1|    1.0|\n+---+---+---+--------+----+---+-------+-------+-----+-------+-----+---+----+------+-------+\nonly showing top 20 rows\n\n"
     ]
    }
   ],
   "source": [
    "# categorize fbs and create df2\n",
    "from pyspark.ml.feature import StringIndexer\n",
    "indexer = StringIndexer(inputCol=\"fbs\", outputCol=\"fbs_cat\")\n",
    "df2 = indexer.fit(df).transform(df)\n",
    "df2.show()\n",
    "df2 = df2.withColumn(\"fbs_cat\", df2[\"fbs_cat\"].cast(IntegerType()))\n",
    "df2 = df2.drop(\"fbs\")"
   ]
  },
  {
   "cell_type": "markdown",
   "metadata": {
    "application/vnd.databricks.v1+cell": {
     "cellMetadata": {},
     "inputWidgets": {},
     "nuid": "2778e9ce-7b4e-4be4-bf73-9a9ea5d1389c",
     "showTitle": false,
     "title": ""
    }
   },
   "source": [
    "### Compute correlations"
   ]
  },
  {
   "cell_type": "code",
   "execution_count": 0,
   "metadata": {
    "application/vnd.databricks.v1+cell": {
     "cellMetadata": {
      "byteLimit": 2048000,
      "rowLimit": 10000
     },
     "inputWidgets": {},
     "nuid": "5bb5f676-48f3-482d-ae23-4f5a04f7fcb4",
     "showTitle": false,
     "title": ""
    }
   },
   "outputs": [
    {
     "output_type": "stream",
     "name": "stdout",
     "output_type": "stream",
     "text": [
      "{'oldpeak': -0.4384412713889329, 'exang': -0.43802855005584596, 'cp': 0.43485425005273703, 'thalach': 0.4228954964828724, 'ca': -0.382085289038671, 'slope': 0.3455117514359987, 'thal': -0.3378381504571859, 'sex': -0.27950075729226237, 'age': -0.2293235512676108, 'trestbps': -0.13877173373730076, 'restecg': 0.1344682087390892, 'chol': -0.09996559423254128, 'fbs_cat': -0.04116354746465123}\n"
     ]
    }
   ],
   "source": [
    "# filter out string columns\n",
    "non_string_cols = [f.name for f in df2.schema.fields if f.dataType != StringType() and f.name != 'target']\n",
    "\n",
    "# calculate correlations\n",
    "correlations = {c: df2.stat.corr(c, 'target') for c in non_string_cols}\n",
    "\n",
    "# print sorted corrs\n",
    "corr_sort = {k: v for k, v in sorted(correlations.items(), key=lambda item: abs(item[1]), reverse=True)}\n",
    "print(corr_sort)"
   ]
  },
  {
   "cell_type": "markdown",
   "metadata": {
    "application/vnd.databricks.v1+cell": {
     "cellMetadata": {},
     "inputWidgets": {},
     "nuid": "3759628a-3eb8-4049-b337-c8a1443dcdbd",
     "showTitle": false,
     "title": ""
    }
   },
   "source": [
    "### Compute feature importance"
   ]
  },
  {
   "cell_type": "code",
   "execution_count": 0,
   "metadata": {
    "application/vnd.databricks.v1+cell": {
     "cellMetadata": {
      "byteLimit": 2048000,
      "rowLimit": 10000
     },
     "inputWidgets": {},
     "nuid": "7665a3e8-487d-4781-882b-52ac764c8ba4",
     "showTitle": false,
     "title": ""
    }
   },
   "outputs": [
    {
     "output_type": "stream",
     "name": "stdout",
     "output_type": "stream",
     "text": [
      "Column age # unique values: 41\nColumn sex # unique values: 2\nColumn cp # unique values: 4\nColumn trestbps # unique values: 49\nColumn chol # unique values: 152\nColumn fbs # unique values: 2\nColumn restecg # unique values: 3\nColumn thalach # unique values: 91\nColumn exang # unique values: 2\nColumn oldpeak # unique values: 40\nColumn slope # unique values: 3\nColumn ca # unique values: 5\nColumn thal # unique values: 4\nColumn target # unique values: 2\n"
     ]
    }
   ],
   "source": [
    "# print cardinality of each column\n",
    "for c in df.columns:\n",
    "    print(f\"Column {c} # unique values: {len(set(df.select(c).collect()))}\")"
   ]
  },
  {
   "cell_type": "code",
   "execution_count": 0,
   "metadata": {
    "application/vnd.databricks.v1+cell": {
     "cellMetadata": {
      "byteLimit": 2048000,
      "rowLimit": 10000
     },
     "inputWidgets": {},
     "nuid": "a8af48f8-d024-4d34-90a9-dd6b3bc219bf",
     "showTitle": false,
     "title": ""
    }
   },
   "outputs": [
    {
     "output_type": "stream",
     "name": "stdout",
     "output_type": "stream",
     "text": [
      "cp: 0.21449268924455925\nca: 0.16859745897532874\nthal: 0.15083115065171196\noldpeak: 0.09896439441256286\nthalach: 0.07866203385196481\nexang: 0.06634157031697409\nage: 0.062184186544523345\nslope: 0.046851772184379754\nsex: 0.03826327184040719\ntrestbps: 0.036761324435192304\nchol: 0.025785181993641933\nrestecg: 0.008303295219432546\nfbs_cat: 0.003961670329321223\n"
     ]
    }
   ],
   "source": [
    "from pyspark.ml.feature import VectorAssembler\n",
    "from pyspark.ml.classification import RandomForestClassifier\n",
    "\n",
    "# get features\n",
    "features = [col for col in df2.columns if col not in [\"target\"]]\n",
    "\n",
    "# assemble features into a single vector\n",
    "assembler = VectorAssembler(inputCols=features, outputCol=\"features\")\n",
    "assembled_data = assembler.transform(df2)\n",
    "\n",
    "# train rf model\n",
    "rf = RandomForestClassifier(labelCol=\"target\", featuresCol=\"features\", numTrees=100)\n",
    "\n",
    "model = rf.fit(assembled_data)\n",
    "\n",
    "# get feature importance\n",
    "importances = model.featureImportances\n",
    "\n",
    "# sort feature importances\n",
    "importance_list = [importances[i] for i in range(len(features))]\n",
    "sorted_importances = sorted(zip(features, importance_list), key=lambda x: x[1], reverse=True)\n",
    "\n",
    "for feature, importance in sorted_importances:\n",
    "    print(f\"{feature}: {importance}\")"
   ]
  },
  {
   "cell_type": "markdown",
   "metadata": {
    "application/vnd.databricks.v1+cell": {
     "cellMetadata": {},
     "inputWidgets": {},
     "nuid": "9d68568c-d5dc-4516-a018-f0e2b6342890",
     "showTitle": false,
     "title": ""
    }
   },
   "source": [
    "# Export to delta file"
   ]
  },
  {
   "cell_type": "code",
   "execution_count": 0,
   "metadata": {
    "application/vnd.databricks.v1+cell": {
     "cellMetadata": {
      "byteLimit": 2048000,
      "rowLimit": 10000
     },
     "inputWidgets": {},
     "nuid": "55a72d58-4219-409e-8c1e-4e70897e44ea",
     "showTitle": false,
     "title": ""
    }
   },
   "outputs": [],
   "source": [
    "df2.write.format(\"delta\").mode(\"overwrite\").save(\"dbfs:/user/hive/warehouse/heart_model\")"
   ]
  },
  {
   "cell_type": "code",
   "execution_count": 0,
   "metadata": {
    "application/vnd.databricks.v1+cell": {
     "cellMetadata": {},
     "inputWidgets": {},
     "nuid": "30d8c68c-61c6-4443-b6a7-7f941c4d5fc3",
     "showTitle": false,
     "title": ""
    }
   },
   "outputs": [],
   "source": []
  }
 ],
 "metadata": {
  "application/vnd.databricks.v1+notebook": {
   "dashboards": [],
   "language": "python",
   "notebookMetadata": {
    "pythonIndentUnit": 4
   },
   "notebookName": "eda",
   "widgets": {}
  },
  "kernelspec": {
   "display_name": "Python 3 (ipykernel)",
   "language": "python",
   "name": "python3"
  },
  "language_info": {
   "codemirror_mode": {
    "name": "ipython",
    "version": 3
   },
   "file_extension": ".py",
   "mimetype": "text/x-python",
   "name": "python",
   "nbconvert_exporter": "python",
   "pygments_lexer": "ipython3",
   "version": "3.11.4"
  }
 },
 "nbformat": 4,
 "nbformat_minor": 0
}
